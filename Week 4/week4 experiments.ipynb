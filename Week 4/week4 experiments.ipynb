{
 "cells": [
  {
   "cell_type": "code",
   "execution_count": 1,
   "metadata": {
    "pycharm": {
     "name": "#%%\n"
    }
   },
   "outputs": [],
   "source": [
    "%matplotlib widget"
   ]
  },
  {
   "cell_type": "code",
   "execution_count": 2,
   "metadata": {
    "pycharm": {
     "name": "#%%\n"
    }
   },
   "outputs": [],
   "source": [
    "from week4_functions import *\n",
    "\n",
    "savefigs = True\n",
    "\n",
    "doExp1 = True"
   ]
  },
  {
   "cell_type": "code",
   "execution_count": 3,
   "metadata": {},
   "outputs": [],
   "source": [
    "def lin_func(a, b):\n",
    "    def f(x):\n",
    "        return a*x + b\n",
    "    return f\n",
    "\n",
    "def sin_func(A, omega, phi):\n",
    "    def f(x):\n",
    "        return A*np.sin(omega*x + phi)\n",
    "    return f"
   ]
  },
  {
   "cell_type": "code",
   "execution_count": 4,
   "metadata": {
    "pycharm": {
     "name": "#%%\n"
    }
   },
   "outputs": [],
   "source": [
    "width = 1.0\n",
    "height = 1.0\n",
    "I = J = 150\n",
    "\n",
    "A = 1/2\n",
    "ω = 2*np.pi/height\n",
    "φ = 0\n",
    "\n",
    "left_boundary_function = lin_func(0,0)\n",
    "right_boundary_function = sin_func(A, ω, φ)"
   ]
  },
  {
   "cell_type": "code",
   "execution_count": 5,
   "metadata": {},
   "outputs": [
    {
     "ename": "KeyboardInterrupt",
     "evalue": "",
     "output_type": "error",
     "traceback": [
      "\u001b[1;31m---------------------------------------------------------------------------\u001b[0m",
      "\u001b[1;31mKeyboardInterrupt\u001b[0m                         Traceback (most recent call last)",
      "\u001b[1;32m~\\AppData\\Local\\Temp\\ipykernel_24788\\2515993999.py\u001b[0m in \u001b[0;36m<module>\u001b[1;34m\u001b[0m\n\u001b[0;32m      2\u001b[0m     \u001b[1;32mfrom\u001b[0m \u001b[0mscipy\u001b[0m\u001b[1;33m.\u001b[0m\u001b[0minterpolate\u001b[0m \u001b[1;32mimport\u001b[0m \u001b[0mgriddata\u001b[0m\u001b[1;33m\u001b[0m\u001b[1;33m\u001b[0m\u001b[0m\n\u001b[0;32m      3\u001b[0m     \u001b[1;32mimport\u001b[0m \u001b[0mtime\u001b[0m\u001b[1;33m\u001b[0m\u001b[1;33m\u001b[0m\u001b[0m\n\u001b[1;32m----> 4\u001b[1;33m     \u001b[0my_true\u001b[0m\u001b[1;33m,\u001b[0m \u001b[0mV_true\u001b[0m\u001b[1;33m,\u001b[0m \u001b[0mT_true\u001b[0m \u001b[1;33m=\u001b[0m \u001b[0msolve_heat_eq\u001b[0m\u001b[1;33m(\u001b[0m\u001b[0mwidth\u001b[0m\u001b[1;33m,\u001b[0m \u001b[0mheight\u001b[0m\u001b[1;33m,\u001b[0m \u001b[0mI\u001b[0m\u001b[1;33m,\u001b[0m \u001b[0mJ\u001b[0m\u001b[1;33m,\u001b[0m \u001b[0mleft_boundary_function\u001b[0m\u001b[1;33m,\u001b[0m \u001b[0mright_boundary_function\u001b[0m\u001b[1;33m,\u001b[0m \u001b[0mreturn_plots\u001b[0m\u001b[1;33m=\u001b[0m\u001b[1;32mFalse\u001b[0m\u001b[1;33m,\u001b[0m \u001b[0mverbose\u001b[0m\u001b[1;33m=\u001b[0m\u001b[1;32mFalse\u001b[0m\u001b[1;33m)\u001b[0m\u001b[1;33m\u001b[0m\u001b[1;33m\u001b[0m\u001b[0m\n\u001b[0m\u001b[0;32m      5\u001b[0m \u001b[1;33m\u001b[0m\u001b[0m\n\u001b[0;32m      6\u001b[0m     \u001b[0merrors\u001b[0m \u001b[1;33m=\u001b[0m \u001b[1;33m[\u001b[0m\u001b[1;33m]\u001b[0m\u001b[1;33m\u001b[0m\u001b[1;33m\u001b[0m\u001b[0m\n",
      "\u001b[1;32mc:\\Users\\carla\\Dropbox\\_CARL\\UNI\\KURSER\\ÅR 5\\Computational Methods in Simulation\\Week 4\\week4_functions.py\u001b[0m in \u001b[0;36msolve_heat_eq\u001b[1;34m(width, height, I, J, left_boundary_condition, right_boundary_condition, return_plots, verbose)\u001b[0m\n\u001b[0;32m    172\u001b[0m \u001b[1;33m\u001b[0m\u001b[0m\n\u001b[0;32m    173\u001b[0m     \u001b[1;31m# Solving the linear system inside the domain\u001b[0m\u001b[1;33m\u001b[0m\u001b[1;33m\u001b[0m\u001b[1;33m\u001b[0m\u001b[0m\n\u001b[1;32m--> 174\u001b[1;33m     \u001b[0mKFF\u001b[0m \u001b[1;33m=\u001b[0m \u001b[0mK\u001b[0m\u001b[1;33m[\u001b[0m\u001b[0mF\u001b[0m\u001b[1;33m,\u001b[0m\u001b[1;33m:\u001b[0m\u001b[1;33m]\u001b[0m\u001b[1;33m[\u001b[0m\u001b[1;33m:\u001b[0m\u001b[1;33m,\u001b[0m\u001b[0mF\u001b[0m\u001b[1;33m]\u001b[0m\u001b[1;33m\u001b[0m\u001b[1;33m\u001b[0m\u001b[0m\n\u001b[0m\u001b[0;32m    175\u001b[0m     \u001b[0mfF\u001b[0m  \u001b[1;33m=\u001b[0m \u001b[0mf\u001b[0m\u001b[1;33m[\u001b[0m\u001b[0mF\u001b[0m\u001b[1;33m]\u001b[0m\u001b[1;33m\u001b[0m\u001b[1;33m\u001b[0m\u001b[0m\n\u001b[0;32m    176\u001b[0m     \u001b[0my\u001b[0m\u001b[1;33m[\u001b[0m\u001b[0mF\u001b[0m\u001b[1;33m]\u001b[0m \u001b[1;33m=\u001b[0m \u001b[0mnp\u001b[0m\u001b[1;33m.\u001b[0m\u001b[0mlinalg\u001b[0m\u001b[1;33m.\u001b[0m\u001b[0msolve\u001b[0m\u001b[1;33m(\u001b[0m\u001b[0mKFF\u001b[0m\u001b[1;33m,\u001b[0m \u001b[0mfF\u001b[0m\u001b[1;33m)\u001b[0m\u001b[1;33m\u001b[0m\u001b[1;33m\u001b[0m\u001b[0m\n",
      "\u001b[1;31mKeyboardInterrupt\u001b[0m: "
     ]
    }
   ],
   "source": [
    "if doExp1:\n",
    "    from scipy.interpolate import griddata\n",
    "    import time\n",
    "    y_true, V_true, T_true = solve_heat_eq(width, height, I, J, left_boundary_function, right_boundary_function, return_plots=False, verbose=False)\n",
    "    \n",
    "    errors = []\n",
    "    run_times = []\n",
    "    N_tests = 30\n",
    "\n",
    "    # List of values op to our true I that are not divisors of I\n",
    "    Is = np.array([i for i in np.linspace(1,I,N_tests).astype(int) if I%i != 0])\n",
    "    print(f\"Is: {Is}\")\n",
    "    for I in Is:\n",
    "        J = I\n",
    "        \n",
    "        start_time = time.time()\n",
    "        y, V, T = solve_heat_eq(width, height, I, J, left_boundary_function, right_boundary_function, return_plots=False, verbose=False)\n",
    "        end_time = time.time()\n",
    "        \n",
    "        y_interp = griddata(V_true, y_true, V, method='linear')\n",
    "        errors.append(np.linalg.norm(y - y_interp, np.inf))\n",
    "        run_times.append(end_time - start_time)\n",
    "        print(f\"Error for I = {I}: {errors[-1]:.2e}\", end='\\r')\n",
    "        \n",
    "    errors_max = np.max(errors)\n",
    "    errors_norm = np.array(errors)/errors_max\n",
    "    run_times_max = np.max(run_times)\n",
    "    run_times_norm = np.array(run_times)/run_times_max\n",
    "\n",
    "    fig = plt.figure()\n",
    "    plt.plot(Is, errors_norm, 'o-', color='blue', label = f'$ε/ε_{{max}}$   $(ε_{{max}} = {errors_max:.3f})$')\n",
    "    plt.plot(Is, run_times_norm, 'o-', color='red', label = f'$t/t_{{max}}$    $(t_{{max}} = {run_times_max:.1f}\\ \\mathrm{{s}})$')\n",
    "\n",
    "    plt.title(\"Normalized errors and runtimes vs. grid partitions\")\n",
    "    plt.xlabel(\"Grid partitions\")\n",
    "    # plt.xticks(Is)\n",
    "    plt.legend()\n",
    "    plt.show()\n",
    "    plt.tight_layout()\n",
    "    \n",
    "    if savefigs:\n",
    "        fig.savefig(\"Images/normalized_errors_runtimes_vs_grid_partitions.png\", dpi=300)"
   ]
  },
  {
   "cell_type": "code",
   "execution_count": null,
   "metadata": {},
   "outputs": [],
   "source": []
  }
 ],
 "metadata": {
  "kernelspec": {
   "display_name": "Python 3",
   "language": "python",
   "name": "python3"
  },
  "language_info": {
   "codemirror_mode": {
    "name": "ipython",
    "version": 3
   },
   "file_extension": ".py",
   "mimetype": "text/x-python",
   "name": "python",
   "nbconvert_exporter": "python",
   "pygments_lexer": "ipython3",
   "version": "3.7.12"
  }
 },
 "nbformat": 4,
 "nbformat_minor": 2
}
