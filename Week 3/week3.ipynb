{
 "cells": [
  {
   "cell_type": "markdown",
   "metadata": {
    "pycharm": {
     "name": "#%% md\n"
    }
   },
   "source": [
    "# Computational Methods in Simulation (CMIS) Week 3\n",
    "This notebook is intended to support your learning process. It contains exercises that help you to understand the material. "
   ]
  },
  {
   "cell_type": "markdown",
   "metadata": {
    "pycharm": {
     "name": "#%% md\n"
    }
   },
   "source": [
    "This week is based on Slides 6 - follow the detailed steps below to learn about mesh representations as well as meash quality measures:\n",
    "\n",
    "* Explain how a mesh is represented and create a function that can generate a 2D traingle mesh for a beam (large rectangle) shape\n",
    "* Apply a third-party meshing tool such as tetgen, wildmeshing or similar to a simple 2D case.\n",
    "* Apply a 3D meshing tool such as TetGen or wildmeshing or similar to a 3D surface mesh such as 'armadillo.obj'\n",
    "* Identify two or more quality measures from the Shewchuck paper that you believe will be good measures for a linear tetrahedral mesh. Explain pros and cons of your choosen measures (Hint: We provide functions for computing inscribed/circumscriped spheres as well as signed volume).\n",
    "* Implement the chosen quality measures and create a tool for plotting quality historgrams.\n",
    "* Compute your chosen quality measures for the 3D volume mesh you generate and display histograms of them. Discuss the histograms, what do they tell you about the mesh you generated?\n",
    "* Implement the marching triangle method (as described in Slides 6) and identify \"bad\" or \"wrong\" triangles created by the method. Discuss the cause of these cases and if time permit develop an improved version of the method (Hint: reuse your signed distance field code from Week 2).  \n"
   ]
  },
  {
   "cell_type": "markdown",
   "metadata": {
    "pycharm": {
     "name": "#%% md\n"
    }
   },
   "source": [
    "## Detailed Expected Learning Objectives of this Week\n",
    "\n",
    "* Computational Meshing (Slides 6)\n",
    "    * Explain common mesh quality measures.\n",
    "    * Implement a simple computational mesh generator.\n",
    "    * Generate computational quality meshes using 3rd party software such as DistMesh, TetGen or similar.\n",
    "    * Experimentally evaluate whether a given computational mesh is a quality mesh."
   ]
  },
  {
   "cell_type": "markdown",
   "metadata": {
    "pycharm": {
     "name": "#%% md\n"
    }
   },
   "source": [
    "## Mesh Representations\n",
    "\n",
    "In this work we use the face-indexed array representation for storing a unstructured mesh. That is a triangle mesh. One may find a short description of mesh descriptions from the libigl library\n",
    "\n",
    "https://libigl.github.io/libigl-python-bindings/tutorials/\n",
    "\n",
    "For our 3D meshing examples we may make use of the wildmeshing library for both 3D and 2D meshing\n",
    "\n",
    "https://wildmeshing.github.io/wildmeshing-notebook/\n",
    "\n",
    "Further, We provide two of our own primitive 2D meshing methods."
   ]
  },
  {
   "cell_type": "code",
   "execution_count": 2,
   "metadata": {
    "pycharm": {
     "name": "#%%\n"
    }
   },
   "outputs": [],
   "source": [
    "%matplotlib widget"
   ]
  },
  {
   "cell_type": "code",
   "execution_count": 3,
   "metadata": {
    "pycharm": {
     "name": "#%%\n"
    }
   },
   "outputs": [],
   "source": [
    "import igl\n",
    "import meshplot as mp\n",
    "import numpy as np\n",
    "import wildmeshing as wm\n",
    "import matplotlib.pyplot as plt"
   ]
  },
  {
   "cell_type": "markdown",
   "metadata": {
    "pycharm": {
     "name": "#%% md\n"
    }
   },
   "source": [
    "For starters we will show an example of how to directly generate a beam mesh.\n",
    "\n",
    "The idea is to make the beam on a regular back ground grid. In a first sweep over grid nodes we create the vertices of the beam mesh. In a second sweep over the cells of the regular grid we will create triangles. \n",
    "\n",
    "To avoid having any bias from mesh connectivity we choose to flip the diagonals of the grid cells. This way we get a very homogenous looking triangle mesh with similar shaped triangles that are close to being equilateral."
   ]
  },
  {
   "cell_type": "code",
   "execution_count": 4,
   "metadata": {
    "pycharm": {
     "name": "#%%\n"
    }
   },
   "outputs": [
    {
     "data": {
      "application/vnd.jupyter.widget-view+json": {
       "model_id": "9e4232088a15439fbc12f88b0b271bff",
       "version_major": 2,
       "version_minor": 0
      },
      "text/plain": [
       "Renderer(camera=PerspectiveCamera(children=(DirectionalLight(color='white', intensity=0.6, position=(0.0, 0.0,…"
      ]
     },
     "metadata": {},
     "output_type": "display_data"
    }
   ],
   "source": [
    "def make_beam_mesh(width, height, shape):\n",
    "    x0 = -width/2.0\n",
    "    y0 = -height/2.0\n",
    "    I  = shape[0]\n",
    "    J  = shape[1]\n",
    "    dx = width/float(I)\n",
    "    dy = height/float(J)\n",
    "    V = np.zeros(((I + 1)*(J + 1), 2), dtype=np.float64)\n",
    "    for j in range(J + 1):\n",
    "        for i in range(I + 1):\n",
    "            k = i + j*(I + 1)\n",
    "            V[k, 0] = x0 + i*dx\n",
    "            V[k, 1] = y0 + j*dy\n",
    "    T = np.zeros((2*I*J,3),dtype=np.int32) \n",
    "    for j in range(J):\n",
    "        for i in range(I):\n",
    "            k00 = (i    ) + (j    )*(I + 1)\n",
    "            k01 = (i + 1) + (j    )*(I + 1)\n",
    "            k10 = (i    ) + (j + 1)*(I + 1)\n",
    "            k11 = (i + 1) + (j + 1)*(I + 1)\n",
    "            e = 2*(i + j*I)\n",
    "            if (i + j)%2:\n",
    "                T[e    , :] = (k00, k01, k11)\n",
    "                T[e + 1, :] = (k00, k11, k10)\n",
    "            else:\n",
    "                T[e    , :] = (k10, k00, k01)\n",
    "                T[e + 1, :] = (k10, k01, k11)                    \n",
    "    return V, T\n",
    "\n",
    "V, T = make_beam_mesh(2.0,1.0,(12,6))\n",
    "\n",
    "p = mp.plot(V, T, return_plot=True, shading={\"wireframe\": True})"
   ]
  },
  {
   "cell_type": "markdown",
   "metadata": {
    "pycharm": {
     "name": "#%% md\n"
    }
   },
   "source": [
    "Next we will show an example using the wildmeshing library to generate a triangle mesh from a polygon boundary. "
   ]
  },
  {
   "cell_type": "code",
   "execution_count": 5,
   "metadata": {
    "pycharm": {
     "name": "#%%\n"
    }
   },
   "outputs": [
    {
     "data": {
      "application/vnd.jupyter.widget-view+json": {
       "model_id": "c4f282610d754ebea5f71abc9df991d4",
       "version_major": 2,
       "version_minor": 0
      },
      "text/plain": [
       "Renderer(camera=PerspectiveCamera(children=(DirectionalLight(color='white', intensity=0.6, position=(0.0, 0.0,…"
      ]
     },
     "metadata": {},
     "output_type": "display_data"
    }
   ],
   "source": [
    "# Documentation is here https://wildmeshing.github.io/wildmeshing-notebook/\n",
    "def make_circle_mesh(radius, segments):\n",
    "    K = segments\n",
    "    X = np.array([ radius*np.cos(2*np.pi*k/K) for k in range(K)])\n",
    "    Y = np.array([ radius*np.sin(2*np.pi*k/K) for k in range(K)])\n",
    "    P = np.zeros((K,2))\n",
    "    P[:,0] = X\n",
    "    P[:,1] = Y\n",
    "    L = np.array([(k,(k+1)%K) for k in range(K)],dtype=np.int32)\n",
    "    V, T, _, _ = wm.triangulate_data(P, L, cut_outside=True)\n",
    "    return (V, T)\n",
    "\n",
    "V, T = make_circle_mesh(0.75, 36)\n",
    "p = mp.plot(V, T, return_plot=True, shading={\"wireframe\": True})"
   ]
  },
  {
   "cell_type": "markdown",
   "metadata": {
    "pycharm": {
     "name": "#%% md\n"
    }
   },
   "source": [
    "# Quality Measures\n",
    "\n",
    "We have identified 4 quality measures for linear tetrahedral meshes. We implement simple functions that given one element can compute its quality measure.\n",
    "\n",
    "For computing quality measures it is helpful to be able to compute the signed volume of a tetrahedron, test if is left oriented, circumscribed and inscriped spheres."
   ]
  },
  {
   "cell_type": "code",
   "execution_count": 6,
   "metadata": {
    "pycharm": {
     "name": "#%%\n"
    }
   },
   "outputs": [],
   "source": [
    "def compute_signed_volume(pi, pj, pk, pm):\n",
    "    return np.dot((pm - pi), np.cross((pj - pi), (pk - pi))) / 6.0\n",
    "\n",
    "def compute_signed_area(pi, pj, pk):\n",
    "    return 0.5 * np.linalg.norm(np.cross((pj - pi), (pk - pi)))\n",
    "\n",
    "def is_left_orientation(pi, pj, pk, pm):\n",
    "    return compute_signed_volume(pi, pj, pk, pm) < 0.0\n",
    "\n",
    "def compute_circumscribed_sphere(p0, p1, p2, p3):\n",
    "    A = p0 - p3\n",
    "    B = p1 - p3\n",
    "    C = p2 - p3\n",
    "\n",
    "    M00 = np.dot(A, A)\n",
    "    M01 = np.dot(A, B)\n",
    "    M02 = np.dot(A, C)\n",
    "    M10 = np.dot(B, A)\n",
    "    M11 = np.dot(B, B)\n",
    "    M12 = np.dot(B, C)\n",
    "    M20 = np.dot(C, A)\n",
    "    M21 = np.dot(C, B)\n",
    "    M22 = np.dot(C, C)\n",
    "\n",
    "    M = np.array([[M00, M01, M02], [M10, M11, M12], [M20, M21, M22]], dtype=np.float64)\n",
    "    q = 0.5 * np.array([M00, M11, M22], dtype=np.float64)\n",
    "    \n",
    "    u = np.linalg.lstsq(M, q, rcond=None)[0]\n",
    "\n",
    "    u0 = u[0]\n",
    "    u1 = u[1]\n",
    "    u2 = u[2]\n",
    "    u3 = 1.0 - u0 - u1 - u2\n",
    "\n",
    "    radius = np.linalg.norm(u0 * A + u1 * B + u2 * C)\n",
    "    center = u0 * p0 + u1 * p1 + u2 * p2 + u3 * p3\n",
    "\n",
    "    return center, radius\n",
    "\n",
    "\n",
    "def compute_inscribed_sphere(pi, pj, pk, pm):\n",
    "    nm = np.cross((pj - pi), (pk - pi))\n",
    "    ni = np.cross((pm - pj), (pk - pj))\n",
    "    nj = np.cross((pm - pk), (pi - pk))\n",
    "    nk = np.cross((pm - pi), (pj - pi))\n",
    "    Lnm = np.linalg.norm(nm)\n",
    "    Lni = np.linalg.norm(ni)\n",
    "    Lnj = np.linalg.norm(nj)\n",
    "    Lnk = np.linalg.norm(nk)\n",
    "    nm = nm / Lnm\n",
    "    ni = ni / Lni\n",
    "    nj = nj / Lnj\n",
    "    nk = nk / Lnk\n",
    "\n",
    "    wm = np.dot(nm, pi)\n",
    "    wi = np.dot(ni, pj)\n",
    "    wj = np.dot(nj, pk)\n",
    "    wk = np.dot(nk, pi)\n",
    "\n",
    "    M00 = nm[0]\n",
    "    M01 = nm[1]\n",
    "    M02 = nm[2]\n",
    "    M03 = -1.0\n",
    "\n",
    "    M10 = ni[0]\n",
    "    M11 = ni[1]\n",
    "    M12 = ni[2]\n",
    "    M13 = -1.0\n",
    "\n",
    "    M20 = nj[0]\n",
    "    M21 = nj[1]\n",
    "    M22 = nj[2]\n",
    "    M23 = -1.0\n",
    "\n",
    "    M30 = nk[0]\n",
    "    M31 = nk[1]\n",
    "    M32 = nk[2]\n",
    "    M33 = -1.0\n",
    "\n",
    "    A = np.array([[M00, M01, M02, M03], [M10, M11, M12, M13], [M20, M21, M22, M23], [M30, M31, M32, M33]],\n",
    "                 dtype=np.float64)\n",
    "    b = np.array([wm, wi, wj, wk], dtype=np.float64)\n",
    "\n",
    "    x = np.linalg.lstsq(A, b, rcond=None)[0]\n",
    "\n",
    "    center = np.array( [x[0], x[1], x[2]], dtype=np.float64)\n",
    "    radius = x[3]\n",
    "\n",
    "    return center, radius\n",
    "\n",
    "def compute_max_edge_length(points):\n",
    "    l_max = np.max(np.linalg.norm(points[:, np.newaxis] - points, axis=2))\n",
    "    return l_max\n",
    "\n",
    "def compute_rms_edge_length(points):\n",
    "    norm_array = np.linalg.norm(points[:, np.newaxis] - points, axis=2)\n",
    "    norm_array_squared = np.square(norm_array)\n",
    "    l_rms_squared = np.sum(np.triu(norm_array_squared, k=1))/len(points)\n",
    "    l_rms = np.sqrt(l_rms_squared)\n",
    "    return l_rms"
   ]
  },
  {
   "cell_type": "markdown",
   "metadata": {
    "pycharm": {
     "name": "#%% md\n"
    }
   },
   "source": [
    "Now we may implement our quality measures using these basic geometry functions"
   ]
  },
  {
   "cell_type": "code",
   "execution_count": 7,
   "metadata": {
    "pycharm": {
     "name": "#%%\n"
    }
   },
   "outputs": [],
   "source": [
    "# TODO - identify two or more quality measures from the Shewchuck paper that you believe will be good \n",
    "# measures for a linear tetrahedral mesh and implement them below\n",
    "\n",
    "def compute_tri_radius_ratio(pi, pj, pk):\n",
    "    points = np.array([pi, pj, pk], dtype=np.float64)\n",
    "    _, r_in = compute_inscribed_sphere(*points)\n",
    "    _, r_circ = compute_circumscribed_sphere(*points)\n",
    "    return 2 * r_in / r_circ\n",
    "\n",
    "def compute_tri_volume_ratio(pi, pj, pk):\n",
    "    points = np.array([pi, pj, pk], dtype=np.float64)\n",
    "    l_rms = compute_rms_edge_length(points)\n",
    "    A = compute_signed_area(*points)\n",
    "    return 4 * np.sqrt(3) * A / l_rms**2\n",
    "\n",
    "def compute_tet_radius_ratio(pi, pj, pk, pm):\n",
    "    points = np.array([pi, pj, pk, pm], dtype=np.float64)\n",
    "    _, r_in = compute_inscribed_sphere(*points)\n",
    "    _, r_circ = compute_circumscribed_sphere(*points)\n",
    "    return 3 * r_in / r_circ\n",
    "\n",
    "def compute_tet_volume_ratio(pi, pj, pk, pm):\n",
    "    points = np.array([pi, pj, pk, pm], dtype=np.float64)\n",
    "    l_rms = compute_rms_edge_length(points)\n",
    "    V = np.abs(compute_signed_volume(pi, pj, pk, pm))\n",
    "    return 6 * np.sqrt(2) * V/l_rms**3"
   ]
  },
  {
   "cell_type": "markdown",
   "metadata": {
    "pycharm": {
     "name": "#%% md\n"
    }
   },
   "source": [
    "Finally we can create a function that iterates over all tetrahedra in a mesh, compute quality measures for each tetrahedron and make histograms of the measures"
   ]
  },
  {
   "cell_type": "code",
   "execution_count": 8,
   "metadata": {
    "pycharm": {
     "name": "#%%\n"
    }
   },
   "outputs": [],
   "source": [
    "# TODO - create a tool for plotting quality historgrams\n",
    "\n",
    "def plot_quality_histograms(V, T, quality_func, bins = 100, figsize=(8,6)):\n",
    "    points_array = V[T]\n",
    "    Q = np.zeros(len(points_array), dtype=np.float64)\n",
    "    for i, points in enumerate(points_array):\n",
    "        Q[i] = quality_func(*points)\n",
    "    fig, ax = plt.subplots(nrows=1, ncols=1, figsize=figsize)\n",
    "    hist = ax.hist(Q, bins=bins, color='black', edgecolor='white', linewidth=1.2)\n",
    "    return fig, ax, hist"
   ]
  },
  {
   "cell_type": "markdown",
   "metadata": {
    "pycharm": {
     "name": "#%% md\n"
    }
   },
   "source": [
    "# Reading Surface Mesh from File\n",
    "\n",
    "We want to get some test geometry for making 3D tetrahedral meshes. We will use a popular computer graphics figure for our testing."
   ]
  },
  {
   "cell_type": "code",
   "execution_count": 9,
   "metadata": {
    "pycharm": {
     "name": "#%%\n"
    }
   },
   "outputs": [
    {
     "data": {
      "application/vnd.jupyter.widget-view+json": {
       "model_id": "e5a7a840e8c243728018cbf01b9dec79",
       "version_major": 2,
       "version_minor": 0
      },
      "text/plain": [
       "Renderer(camera=PerspectiveCamera(children=(DirectionalLight(color='white', intensity=0.6, position=(-0.015966…"
      ]
     },
     "metadata": {},
     "output_type": "display_data"
    },
    {
     "data": {
      "text/plain": [
       "<meshplot.Viewer.Viewer at 0x1b5a2ae8588>"
      ]
     },
     "execution_count": 9,
     "metadata": {},
     "output_type": "execute_result"
    }
   ],
   "source": [
    "v, f = igl.read_triangle_mesh(\"armadillo.obj\")\n",
    "mp.plot(v, f, v[:, 0])"
   ]
  },
  {
   "cell_type": "markdown",
   "metadata": {
    "pycharm": {
     "name": "#%% md\n"
    }
   },
   "source": [
    "# Create Volumetric Tetrahedral Mesh from Surface Mesh\n",
    "\n",
    "We can now invoke a meshing routine to get a volume mesh and then visualize it."
   ]
  },
  {
   "cell_type": "code",
   "execution_count": 10,
   "metadata": {
    "pycharm": {
     "name": "#%%\n"
    }
   },
   "outputs": [
    {
     "data": {
      "application/vnd.jupyter.widget-view+json": {
       "model_id": "e773c0e22ea04307a6f3dafd73544e46",
       "version_major": 2,
       "version_minor": 0
      },
      "text/plain": [
       "Renderer(camera=PerspectiveCamera(children=(DirectionalLight(color='white', intensity=0.6, position=(-0.016000…"
      ]
     },
     "metadata": {},
     "output_type": "display_data"
    },
    {
     "data": {
      "text/plain": [
       "<meshplot.Viewer.Viewer at 0x1b5a2ae2948>"
      ]
     },
     "execution_count": 10,
     "metadata": {},
     "output_type": "execute_result"
    }
   ],
   "source": [
    "tetra = wm.Tetrahedralizer(stop_quality=500)\n",
    "tetra.load_mesh(\"armadillo.obj\")\n",
    "tetra.tetrahedralize()\n",
    "V, T = tetra.get_tet_mesh()\n",
    "mp.plot(V, T)"
   ]
  },
  {
   "cell_type": "markdown",
   "metadata": {
    "pycharm": {
     "name": "#%% md\n"
    }
   },
   "source": [
    "# Histograms of Quality Measures from 3D Volume Mesh\n",
    "\n",
    "We now have all pieces in place to make histograms. We can use the histograms to get an idea of the quality of the mesh we have created."
   ]
  },
  {
   "cell_type": "code",
   "execution_count": 13,
   "metadata": {
    "pycharm": {
     "name": "#%%\n"
    }
   },
   "outputs": [
    {
     "data": {
      "text/plain": [
       "Text(0, 0.5, 'Frequency')"
      ]
     },
     "execution_count": 13,
     "metadata": {},
     "output_type": "execute_result"
    },
    {
     "data": {
      "application/vnd.jupyter.widget-view+json": {
       "model_id": "a5f1e8fa47d74cf6af6a5d9a516c8bd8",
       "version_major": 2,
       "version_minor": 0
      },
      "image/png": "[encoded data removed]",
      "text/html": [
       "\n",
       "            <div style=\"display: inline-block;\">\n",
       "                <div class=\"jupyter-widgets widget-label\" style=\"text-align: center;\">\n",
       "                    Figure\n",
       "                </div>\n",
       "                <img src='data:image/png;base64,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' width=800.0/>\n",
       "            </div>\n",
       "        "
      ],
      "text/plain": [
       "Canvas(toolbar=Toolbar(toolitems=[('Home', 'Reset original view', 'home', 'home'), ('Back', 'Back to previous …"
      ]
     },
     "metadata": {},
     "output_type": "display_data"
    },
    {
     "data": {
      "application/vnd.jupyter.widget-view+json": {
       "model_id": "2dd1e76d68bf45f9831670e172ba34ac",
       "version_major": 2,
       "version_minor": 0
      },
      "image/png": "[encoded data removed]",
      "text/html": [
       "\n",
       "            <div style=\"display: inline-block;\">\n",
       "                <div class=\"jupyter-widgets widget-label\" style=\"text-align: center;\">\n",
       "                    Figure\n",
       "                </div>\n",
       "                <img src='data:image/png;base64,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' width=800.0/>\n",
       "            </div>\n",
       "        "
      ],
      "text/plain": [
       "Canvas(toolbar=Toolbar(toolitems=[('Home', 'Reset original view', 'home', 'home'), ('Back', 'Back to previous …"
      ]
     },
     "metadata": {},
     "output_type": "display_data"
    }
   ],
   "source": [
    "fig1, ax1, hist1 = plot_quality_histograms(V, T, compute_tet_radius_ratio, bins = 20)\n",
    "fig2, ax2, hist2 = plot_quality_histograms(V, T, compute_tet_volume_ratio, bins = 20)\n",
    "\n",
    "ax1.set_title(f\"Armadillo tet radius ratio, edge length\")\n",
    "ax1.set_xlabel(\"Quality\")\n",
    "ax1.set_ylabel(\"Frequency\")\n",
    "\n",
    "ax2.set_title(f\"Armadillo tet volume ratio, edge length\")\n",
    "ax2.set_xlabel(\"Quality\")\n",
    "ax2.set_ylabel(\"Frequency\")"
   ]
  },
  {
   "cell_type": "markdown",
   "metadata": {
    "pycharm": {
     "name": "#%% md\n"
    }
   },
   "source": [
    "Just for fun we will play with a few more meshes to see how they behave"
   ]
  },
  {
   "cell_type": "code",
   "execution_count": 15,
   "metadata": {
    "pycharm": {
     "name": "#%%\n"
    }
   },
   "outputs": [
    {
     "data": {
      "application/vnd.jupyter.widget-view+json": {
       "model_id": "bf031ab7f6cf4ac7b249463b4b7ce7c7",
       "version_major": 2,
       "version_minor": 0
      },
      "text/plain": [
       "Renderer(camera=PerspectiveCamera(children=(DirectionalLight(color='white', intensity=0.6, position=(-33.78362…"
      ]
     },
     "metadata": {},
     "output_type": "display_data"
    },
    {
     "data": {
      "application/vnd.jupyter.widget-view+json": {
       "model_id": "00730bf55a244f2d87268b83d7356786",
       "version_major": 2,
       "version_minor": 0
      },
      "text/plain": [
       "Renderer(camera=PerspectiveCamera(children=(DirectionalLight(color='white', intensity=0.6, position=(-33.80145…"
      ]
     },
     "metadata": {},
     "output_type": "display_data"
    }
   ],
   "source": [
    "\n",
    "ls = [0.05, 0.0125]\n",
    "for l_edge in ls:\n",
    "    tetra = wm.Tetrahedralizer(stop_quality=500, edge_length_r = l_edge)\n",
    "    tetra.load_mesh(\"left_brain.stl\")\n",
    "    tetra.tetrahedralize()\n",
    "    V, T = tetra.get_tet_mesh()\n",
    "    mp.plot(V, T)"
   ]
  },
  {
   "cell_type": "code",
   "execution_count": null,
   "metadata": {
    "pycharm": {
     "name": "#%%\n"
    }
   },
   "outputs": [],
   "source": [
    "# tetra = wm.Tetrahedralizer(stop_quality=500, edge_length_r = 1/30)\n",
    "# tetra.load_mesh(\"right_brain.stl\")\n",
    "# tetra.tetrahedralize()\n",
    "# V, T = tetra.get_tet_mesh()\n",
    "# mp.plot(V, T)\n",
    "# fig1, ax1, hist1 = plot_quality_histograms(V, T, compute_tet_radius_ratio, bins = 20)\n",
    "# fig2, ax2, hist2 = plot_quality_histograms(V, T, compute_tet_volume_ratio, bins = 20)"
   ]
  },
  {
   "cell_type": "markdown",
   "metadata": {
    "pycharm": {
     "name": "#%% md\n"
    }
   },
   "source": [
    "# Marching Triangles"
   ]
  },
  {
   "cell_type": "markdown",
   "metadata": {
    "pycharm": {
     "name": "#%% md\n"
    }
   },
   "source": [
    "We will reuse some of our code from week 2. Particular we need the function that can compute a signed distance field. This is because we want to apply the marching triangle method on a signed distance field."
   ]
  },
  {
   "cell_type": "markdown",
   "metadata": {
    "pycharm": {
     "name": "#%% md\n"
    }
   },
   "source": [
    "The marching triangles method creates a regular background grid and then evaluates the signed distance field value at all grid points. Hereafer each cell is visited iteratively. The cell is cut into two triangles and each triangle is investigated. The triangle vertex order are shuffled such that all interior vertices comes first. \n",
    "\n",
    "We may now analyse the triangle case by assigning a case number to the triangle from a binary mask created from its inside-outside pattern of the vertices. The case number identifies a stencil for how to \"cut\" the triangle and generate triangles that covers the interior of the distance field."
   ]
  },
  {
   "cell_type": "markdown",
   "metadata": {
    "pycharm": {
     "name": "#%% md\n"
    }
   },
   "source": [
    "We may now apply the marching triangle to a test problem"
   ]
  },
  {
   "cell_type": "markdown",
   "metadata": {
    "pycharm": {
     "name": "#%% md\n"
    }
   },
   "source": [
    "We may observe several issues with the current implementation. Particular at corners we can see sampling side effects. The method can be fooled to believe the whole area of a triangle is part of the inside if all vertices are inside. Likewise it can be fooled to think a triangle is completely outside if none of the vertices are interior. For instance the in the case of the polygon overlapping only one edge of the triangle.\n",
    "\n",
    "Besides these sampling artefacts we may also note that the current implementation generates redundant vertices. When a triangle is cut by the zero-level set then the intersection points that is computed are not re-used when dealing with neighboring triangles that share the same intersection points."
   ]
  },
  {
   "cell_type": "markdown",
   "metadata": {
    "pycharm": {
     "name": "#%% md\n"
    }
   },
   "source": [
    "That is it folks!"
   ]
  }
 ],
 "metadata": {
  "kernelspec": {
   "display_name": "Python 3",
   "language": "python",
   "name": "python3"
  },
  "language_info": {
   "codemirror_mode": {
    "name": "ipython",
    "version": 3
   },
   "file_extension": ".py",
   "mimetype": "text/x-python",
   "name": "python",
   "nbconvert_exporter": "python",
   "pygments_lexer": "ipython3",
   "version": "3.7.12"
  }
 },
 "nbformat": 4,
 "nbformat_minor": 2
}
