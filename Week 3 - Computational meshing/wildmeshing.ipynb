{
 "cells": [
  {
   "cell_type": "code",
   "execution_count": 5,
   "metadata": {},
   "outputs": [],
   "source": [
    "import numpy as np\n",
    "import wildmeshing as wm\n",
    "import meshplot as mp\n",
    "\n",
    "def vec2(x,y):\n",
    "    return np.array([x,y], dtype=np.float64)\n",
    "\n",
    "def make_wm_mesh(polygon, segments):\n",
    "    X = polygon[:,0]\n",
    "    Y = polygon[:,1]\n",
    "    K = segments\n",
    "    P = np.zeros((K,2))\n",
    "    P[:,0] = X\n",
    "    P[:,1] = Y\n",
    "    L = np.array([(k,(k+1)%K) for k in range(K)],dtype=np.int32)\n",
    "    V, T, _, _ = wm.triangulate_data(P, L, cut_outside=True)\n",
    "    return (V, T)"
   ]
  },
  {
   "cell_type": "code",
   "execution_count": 6,
   "metadata": {},
   "outputs": [
    {
     "data": {
      "application/vnd.jupyter.widget-view+json": {
       "model_id": "6ab20b41a3cc42f293e79067c94134e3",
       "version_major": 2,
       "version_minor": 0
      },
      "text/plain": [
       "Renderer(camera=PerspectiveCamera(children=(DirectionalLight(color='white', intensity=0.6, position=(0.0, 0.09…"
      ]
     },
     "metadata": {},
     "output_type": "display_data"
    },
    {
     "data": {
      "text/plain": [
       "<meshplot.Viewer.Viewer at 0x273eee217c8>"
      ]
     },
     "execution_count": 6,
     "metadata": {},
     "output_type": "execute_result"
    }
   ],
   "source": [
    "poly = np.zeros((11,2),dtype=np.float64)\n",
    "for i in range(11):\n",
    "    r = 1\n",
    "    if (i + 1) % 2 == 0:\n",
    "        r = 1/3\n",
    "    poly[i] = r * vec2(np.sin(2*np.pi*i/10), np.cos(2*np.pi*i/10))\n",
    "\n",
    "V, T = make_wm_mesh(poly, 11)\n",
    "mp.plot(V, T, shading={\"wireframe\": True}, return_plot=True)"
   ]
  },
  {
   "cell_type": "code",
   "execution_count": null,
   "metadata": {},
   "outputs": [],
   "source": []
  }
 ],
 "metadata": {
  "kernelspec": {
   "display_name": "cmis",
   "language": "python",
   "name": "python3"
  },
  "language_info": {
   "codemirror_mode": {
    "name": "ipython",
    "version": 3
   },
   "file_extension": ".py",
   "mimetype": "text/x-python",
   "name": "python",
   "nbconvert_exporter": "python",
   "pygments_lexer": "ipython3",
   "version": "3.7.12"
  }
 },
 "nbformat": 4,
 "nbformat_minor": 2
}
